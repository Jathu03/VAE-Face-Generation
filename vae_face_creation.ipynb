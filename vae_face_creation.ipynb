{
 "cells": [
  {
   "cell_type": "code",
   "execution_count": 7,
   "id": "b8f9d40a",
   "metadata": {},
   "outputs": [],
   "source": [
    "import torch\n",
    "import torch.nn as nn"
   ]
  },
  {
   "cell_type": "code",
   "execution_count": 8,
   "id": "f9baba43",
   "metadata": {},
   "outputs": [],
   "source": [
    "# import the libraries\n",
    "import torch\n",
    "from torch.utils.data import Dataset, DataLoader,random_split\n",
    "from torchvision import transforms\n",
    "from PIL import Image\n",
    "import os\n",
    "\n",
    "# define the dataset class\n",
    "class CelebADataset(Dataset):\n",
    "    # initialize the object to create the list of image paths when defining the class\n",
    "    def __init__(self,root_dir,transform=None):\n",
    "        \"\"\"\n",
    "        Args:\n",
    "            root_dir(string): Directory of the images.\n",
    "            transform: Optional transform to be applied to an image.(Data Augmentation)\n",
    "        \"\"\"\n",
    "        self.root_dir=root_dir\n",
    "        self.transform=transform\n",
    "\n",
    "        # get all image file paths from the directory and create a list\n",
    "        \"\"\"\n",
    "            1. Iterate each item in the directory in the directory using the os.listdir.\n",
    "            2. Check the items extension using .endswith('jpg') function.\n",
    "            3. If the item is an jpg image, get the path using os.join.path and add to the list.\n",
    "        \"\"\"\n",
    "        self.image_paths=[os.path.join(root_dir,img) for img in os.listdir(root_dir) if img.endswith('jpg')]  \n",
    "\n",
    "    # check the length of the class(No of images in the folder)\n",
    "    def __len__(self):\n",
    "        return len(self.image_paths)\n",
    "    \n",
    "    def __getitem__(self,idx):\n",
    "        # Load image using idx value as index to the image path list which is created at the initialization\n",
    "        img_path=self.image_paths[idx]\n",
    "        image=Image.open(img_path).convert('RGB')\n",
    "\n",
    "        # Apply transform if applied\n",
    "        if self.transform:\n",
    "            image=self.transform(image)\n",
    "\n",
    "        return image "
   ]
  },
  {
   "cell_type": "code",
   "execution_count": 10,
   "id": "6db4021c",
   "metadata": {},
   "outputs": [
    {
     "name": "stdout",
     "output_type": "stream",
     "text": [
      "Total number of images loaded: 202599\n",
      "Length of the train and test datasets are (162, 202437)\n"
     ]
    }
   ],
   "source": [
    "# define the transformations we want to apply to the images\n",
    "tensor_transforms=transforms.Compose(\n",
    "    [\n",
    "        transforms.Resize(32),\n",
    "        transforms.ToTensor()\n",
    "    ]\n",
    ")\n",
    "\n",
    "# load the dataset from the directory\n",
    "dataset_path='img_align_celeba'\n",
    "dataset=CelebADataset(root_dir=dataset_path,transform=tensor_transforms)\n",
    "train_size = int(0.8 * len(dataset)/1000)\n",
    "test_size = len(dataset) - train_size\n",
    "train_dataset,test_dataset = random_split(dataset,[train_size,test_size])\n",
    "# create Dataloader\n",
    "dataloader=DataLoader(dataset,batch_size=128,shuffle=True,num_workers=0)  # we cannot feed the entire images at once, so we feed the images as batches\n",
    "# shuffle= True ensures that everytime there is different set of images for each epoch\n",
    "# check the count of images loaded\n",
    "print(f\"Total number of images loaded: {len(dataset)}\")\n",
    "print(f'Length of the train and test datasets are {len(train_dataset),len(test_dataset)}')"
   ]
  },
  {
   "cell_type": "code",
   "execution_count": 11,
   "id": "6a7ed7b6",
   "metadata": {},
   "outputs": [
    {
     "data": {
      "text/plain": [
       "torch.Size([3, 39, 32])"
      ]
     },
     "execution_count": 11,
     "metadata": {},
     "output_type": "execute_result"
    }
   ],
   "source": [
    "train_dataset[1].shape"
   ]
  },
  {
   "cell_type": "code",
   "execution_count": 12,
   "id": "f8138f2f",
   "metadata": {},
   "outputs": [
    {
     "data": {
      "text/plain": [
       "tensor([37.0599])"
      ]
     },
     "execution_count": 12,
     "metadata": {},
     "output_type": "execute_result"
    }
   ],
   "source": [
    "\"\"\"\n",
    "    Fake architecture creation for the understanding\n",
    "\n",
    "    1. Simple weight matrices to parametrize the layers for encoder and the distribution parameters\n",
    "    2. Calculate the output of encoder, which is the input for the mean and std layers, by multiplying the\n",
    "    input vector by the encoder weight matrix.\n",
    "    3. Get the mean and std values by multiplying the encoder layer output by the matrices corresponding to \n",
    "    the above layers\n",
    "    4. Create a normal distribution using the mean and std.\n",
    "\"\"\"\n",
    "\n",
    "input_tensor=torch.tensor([3.])\n",
    "\n",
    "w1=torch.tensor([2.],requires_grad=True) # weight matrix for encoder layer\n",
    "w_mu=torch.tensor([8.],requires_grad=True) # weight matrix for mean layer\n",
    "w_sd=torch.tensor([9.],requires_grad=True) # weight matrix for std layer\n",
    "\n",
    "enc_out=input_tensor*w1 # output of encoder layer\n",
    "mu=enc_out*w_mu # mean value\n",
    "sd=enc_out*w_sd # std value\n",
    "\n",
    "# z=torch.normal(mu,sd) avoid this as it is not differentiable\n",
    "z=mu+sd*torch.randn(1) # reparameterization trick\n",
    "z.backward() # backpropagation for all the tensoes associated with z with requires_grad=True\n",
    "w1.grad # gradient for the mean layer weight\n"
   ]
  },
  {
   "cell_type": "markdown",
   "id": "041e2143-72bb-4e2f-acd4-926777e89931",
   "metadata": {},
   "source": [
    "Define the image transformations and load the train and test dataset"
   ]
  },
  {
   "cell_type": "markdown",
   "id": "c38bf100-cd55-4ded-bb70-3b7abb410b36",
   "metadata": {},
   "source": [
    "Define a simple variational autoencoder model architecture"
   ]
  },
  {
   "cell_type": "code",
   "execution_count": 13,
   "id": "93b1bd2c-46f6-41d0-b18a-4021dc920831",
   "metadata": {},
   "outputs": [
    {
     "data": {
      "text/plain": [
       "LinearVariationalAutoEncoder(\n",
       "  (encoder): Sequential(\n",
       "    (0): Linear(in_features=3744, out_features=128, bias=True)\n",
       "    (1): ReLU()\n",
       "    (2): Linear(in_features=128, out_features=64, bias=True)\n",
       "    (3): ReLU()\n",
       "    (4): Linear(in_features=64, out_features=32, bias=True)\n",
       "  )\n",
       "  (fn_mu): Linear(in_features=32, out_features=20, bias=True)\n",
       "  (fn_logvar): Linear(in_features=32, out_features=20, bias=True)\n",
       "  (decoder): Sequential(\n",
       "    (0): Linear(in_features=20, out_features=32, bias=True)\n",
       "    (1): ReLU()\n",
       "    (2): Linear(in_features=32, out_features=64, bias=True)\n",
       "    (3): ReLU()\n",
       "    (4): Linear(in_features=64, out_features=128, bias=True)\n",
       "    (5): ReLU()\n",
       "    (6): Linear(in_features=128, out_features=3744, bias=True)\n",
       "    (7): Sigmoid()\n",
       "  )\n",
       ")"
      ]
     },
     "execution_count": 13,
     "metadata": {},
     "output_type": "execute_result"
    }
   ],
   "source": [
    "\"\"\"\n",
    "    This can be divided as shown below or \n",
    "    1. Encoder architecture\n",
    "    2. Latent space parameters(mean and log variance) architecture\n",
    "    3. Decoder architecture\n",
    "    4. Encoder forwarding function\n",
    "    5. Reparametrization function [Can be added with encoder forwarding function.]\n",
    "    6. Decoder forwarding function [To get the generated image during the inference.]\n",
    "    7. Whole model's forwading function [ Include the encoder forwarding, reparametrization and decoder forwarding.]\n",
    "\"\"\"\n",
    "class LinearVariationalAutoEncoder(nn.Module):\n",
    "    def __init__(self,latent_dim = 20):\n",
    "        super().__init__()\n",
    "\n",
    "        # encoder network\n",
    "        self.encoder = nn.Sequential(\n",
    "            nn.Linear(3*32*39,128),\n",
    "            nn.ReLU(),\n",
    "            nn.Linear(128,64),\n",
    "            nn.ReLU(),\n",
    "            nn.Linear(64,32)\n",
    "        )\n",
    "        # mean, std layers\n",
    "        self.fn_mu=nn.Linear(32,latent_dim)\n",
    "        self.fn_logvar=nn.Linear(32,latent_dim)\n",
    "        \n",
    "        # dcoder network\n",
    "        self.decoder= nn.Sequential(\n",
    "            nn.Linear(latent_dim,32),\n",
    "            nn.ReLU(),\n",
    "            nn.Linear(32,64),\n",
    "            nn.ReLU(),\n",
    "            nn.Linear(64,128),\n",
    "            nn.ReLU(),\n",
    "            nn.Linear(128,32*39*3),\n",
    "            nn.Sigmoid()\n",
    "        )\n",
    "\n",
    "    # get the latent vector, mean and variance\n",
    "    def forward_enc(self,x):\n",
    "        x=self.encoder(x)\n",
    "        mu=self.fn_mu(x)\n",
    "        logvar=self.fn_logvar(x)\n",
    "\n",
    "        sigma=torch.exp(0.5*logvar)\n",
    "        noise=torch.rand_like(sigma,device=sigma.device)  # generate noise with same shape as sigma\n",
    "        \n",
    "        z = mu + sigma*noise\n",
    "        return z, mu, logvar\n",
    "    \n",
    "    def forward(self,x):\n",
    "        batch_size,channels,height,width = x.shape\n",
    "        x= x.flatten(1)   # tensor of shape [batch_size,num_channels * height * width]\n",
    "        z,mu,logvar = self.forward_enc(x)\n",
    "\n",
    "        dec = self.decoder(z)\n",
    "        dec = dec.reshape(batch_size,channels,height,width) \n",
    "\n",
    "        return z, mu, logvar, dec\n",
    "    \n",
    "    # to generate image from random vector\n",
    "    def forward_dec(self,z):\n",
    "       return self.decoder(z)\n",
    "\n",
    "model= LinearVariationalAutoEncoder()\n",
    "model\n",
    "        "
   ]
  },
  {
   "cell_type": "markdown",
   "id": "0dfa5dd9-d0e4-41f0-a8b5-176585da7d64",
   "metadata": {},
   "source": [
    "Define the Loss Function"
   ]
  },
  {
   "cell_type": "code",
   "execution_count": 14,
   "id": "ba58dc4c-487f-4907-b538-3bce04466449",
   "metadata": {},
   "outputs": [],
   "source": [
    "def VAELoss(x,x_hat,mean,log_var,kl_weight=1,reconstruction_weight=1):\n",
    "    # reconstruction loss\n",
    "    pixel_mse=(x-x_hat)**2\n",
    "    pixel_mse=pixel_mse.flatten(1) # size = [batch_size, num_channels * width * height]\n",
    "    # mean of total sum of the mean squared errors of pixels of a batch across batches.(divide the pixel mse by the batch_size)\n",
    "    reconstruction_loss = pixel_mse.sum(axis=-1).mean() # axis = -1 add across row(all the values in a batch); 0 add across the column(values of batches in the same coordinte)\n",
    "    #print(f\"RL {reconstruction_loss}\")\n",
    "    # reconstruction_loss = pixel_mse.mean()   # mean of the total mse of all the batches(divide the pixel mse by total pixels in all the batches.).\n",
    "\n",
    "    # KL loss\n",
    "    kl = (1+log_var - mean**2-torch.exp(log_var))  # kl values for each batch: shape = [4,2] (shape of mean, log_var)\n",
    "    kl_per_image = -0.5*torch.sum(kl,axis=-1) # total sum across each row\n",
    "    kl_loss = torch.mean(kl_per_image) # mean of the above sum\n",
    "    #print(f\"KL {kl_per_image}\")\n",
    "    return reconstruction_loss * reconstruction_weight + kl_loss * kl_weight\n",
    "    "
   ]
  },
  {
   "cell_type": "code",
   "execution_count": 15,
   "id": "e2f29208-0fdf-418a-a62a-ea8ecfc5ac98",
   "metadata": {},
   "outputs": [
    {
     "name": "stdout",
     "output_type": "stream",
     "text": [
      "tensor(2483.1211)\n"
     ]
    }
   ],
   "source": [
    "x=torch.randn(4,1,39,32)\n",
    "x_hat=torch.randn(4,1,39,32)\n",
    "\n",
    "mean=torch.randn(4,2)\n",
    "logvar=torch.randn(4,2)\n",
    "\n",
    "a=VAELoss(x,x_hat,mean,logvar)\n",
    "print(a)"
   ]
  },
  {
   "cell_type": "markdown",
   "id": "66902d8f-0394-4fd7-8bb3-b926314498a7",
   "metadata": {},
   "source": [
    "Training Script"
   ]
  },
  {
   "cell_type": "code",
   "execution_count": 16,
   "id": "755f245b",
   "metadata": {},
   "outputs": [],
   "source": [
    "from torch.utils.data import DataLoader\n",
    "from tqdm import tqdm\n",
    "import numpy as np"
   ]
  },
  {
   "cell_type": "code",
   "execution_count": 17,
   "id": "165b1a0a-8a8c-4be8-8b88-944f5069d835",
   "metadata": {},
   "outputs": [],
   "source": [
    "\n",
    "def train(model,\n",
    "          kl_weight,\n",
    "          train_set,\n",
    "          test_set,\n",
    "          batch_size,\n",
    "          training_iterations,\n",
    "          evaluation_iterations):\n",
    "    \n",
    "    device = \"cuda\" if torch.cuda.is_available() else \"cpu\"\n",
    "    model = model.to(device)\n",
    "\n",
    "    # data loaders for the train and test set\n",
    "    train_loader=DataLoader(train_set,batch_size=64,shuffle=True,num_workers=2)\n",
    "    test_loader = DataLoader(test_set,batch_size=64,shuffle=True,num_workers=2)\n",
    "\n",
    "    optimizer = torch.optim.Adam(model.parameters(),lr=0.0005)\n",
    "\n",
    "    # list for storing the losses\n",
    "    train_loss = []\n",
    "    evaluation_loss = []\n",
    "\n",
    "    encoded_data_per_eval = []\n",
    "    train_losses = []\n",
    "    evaluation_losses = []\n",
    "\n",
    "    pbar = tqdm(range(training_iterations))\n",
    "\n",
    "    train = True\n",
    "    step_counter = 0\n",
    "    while train:\n",
    "        for images in train_loader:\n",
    "            images=images.to(device)\n",
    "\n",
    "            # calculate the training loss and other parameters\n",
    "            encoded,mu,logvar,decoded = model(images)\n",
    "            loss = VAELoss(images,decoded,mu,logvar,kl_weight)\n",
    "            train_loss.append(loss.item())\n",
    "\n",
    "            # backpropagation and gradient descent\n",
    "            loss.backward()\n",
    "            optimizer.step()\n",
    "            optimizer.zero_grad()\n",
    "\n",
    "            # evaluation (optinonal)\n",
    "            if step_counter % evaluation_iterations == 0:\n",
    "                # set the model in evaluation mode\n",
    "                model.eval()\n",
    "\n",
    "                encoded_evaluations = []\n",
    "                for images in test_loader:\n",
    "                    images = images.to(device)\n",
    "\n",
    "                    # calculate loss for evaluation\n",
    "                    encoded,mu,logvar,decoded = model(images)\n",
    "                    loss = VAELoss(images,decoded, mu,logvar,kl_weight)\n",
    "\n",
    "                    evaluation_loss.append(loss.item())\n",
    "\n",
    "                # caluculate the mean losses images\n",
    "                train_loss = np.mean(train_loss)\n",
    "                evaluation_loss = np.mean(evaluation_loss)\n",
    "\n",
    "                # add the losses of each batch to the list\n",
    "                train_losses.append(train_loss)\n",
    "                evaluation_losses.append(evaluation_loss)\n",
    "\n",
    "                \n",
    "                train_loss = []\n",
    "                evaluation_loss = []\n",
    "\n",
    "                # set the model again to the training mode after the evaluation mode\n",
    "                model.train()\n",
    "\n",
    "            step_counter+=1\n",
    "            pbar.update(1)\n",
    "\n",
    "            if step_counter >= training_iterations:\n",
    "                print(\"Completed training !\")\n",
    "                train = False\n",
    "                break\n",
    "\n",
    "    print(f\"Final training loss {train_losses[-1]}\")\n",
    "    print(f\"Final evaluation loss {evaluation_losses[-1]}\")\n",
    "\n",
    "    return model, train_losses, evaluation_losses, encoded_data_per_eval\n"
   ]
  },
  {
   "cell_type": "code",
   "execution_count": null,
   "id": "93e95e88-228d-4226-9075-c4f43ed308c6",
   "metadata": {},
   "outputs": [
    {
     "name": "stdout",
     "output_type": "stream",
     "text": [
      "kl_weight: 45\n"
     ]
    },
    {
     "name": "stderr",
     "output_type": "stream",
     "text": [
      "  0%|          | 0/100 [00:00<?, ?it/s]"
     ]
    }
   ],
   "source": [
    "kl_weights = [45]\n",
    "models = []\n",
    "encoded_datas = []\n",
    "for kl_weight in kl_weights:\n",
    "    model = LinearVariationalAutoEncoder()\n",
    "    print(f\"kl_weight: {kl_weight}\")\n",
    "    model,train_losses, evealuation_losses, encoded_data_per_eval = train(model, \n",
    "                                                                          kl_weight = kl_weight, \n",
    "                                                                          train_set = train_dataset, \n",
    "                                                                          test_set = test_dataset, \n",
    "                                                                          batch_size = 64, \n",
    "                                                                          training_iterations = 100, \n",
    "                                                                          evaluation_iterations = 20)\n",
    "    encoded_datas.append(encoded_data_per_eval)\n",
    "    models.append(model)"
   ]
  },
  {
   "cell_type": "code",
   "execution_count": null,
   "id": "ec51877a-aa1d-4a6a-ae87-25a0e25abd3d",
   "metadata": {},
   "outputs": [
    {
     "data": {
      "text/plain": [
       "<matplotlib.image.AxesImage at 0x1ba43523160>"
      ]
     },
     "execution_count": 26,
     "metadata": {},
     "output_type": "execute_result"
    },
    {
     "data": {
      "image/png": "[encoded data removed]",
      "text/plain": [
       "<Figure size 640x480 with 1 Axes>"
      ]
     },
     "metadata": {},
     "output_type": "display_data"
    }
   ],
   "source": [
    "vae=models[0]\n",
    "z = torch.randn(20)\n",
    "z=torch.tensor(z).unsqueeze(0).type(torch.float32)\n",
    "with torch.no_grad():\n",
    "    generated = vae.forward_dec(z)\n",
    "generated = generated.cpu().reshape(32,32).numpy()\n",
    "\n",
    "import matplotlib.pyplot as plt\n",
    "plt.imshow(generated)"
   ]
  },
  {
   "cell_type": "code",
   "execution_count": 6,
   "id": "2a192035",
   "metadata": {},
   "outputs": [
    {
     "name": "stdout",
     "output_type": "stream",
     "text": [
      "torch.Size([1, 20])\n"
     ]
    },
    {
     "name": "stderr",
     "output_type": "stream",
     "text": [
      "C:\\Users\\lenov\\AppData\\Local\\Temp\\ipykernel_5648\\2266519356.py:2: UserWarning: To copy construct from a tensor, it is recommended to use sourceTensor.clone().detach() or sourceTensor.clone().detach().requires_grad_(True), rather than torch.tensor(sourceTensor).\n",
      "  z=torch.tensor(z).unsqueeze(0).type(torch.float32)\n"
     ]
    }
   ],
   "source": [
    "z = torch.randn(20)\n",
    "z=torch.tensor(z).unsqueeze(0).type(torch.float32)\n",
    "print(z.shape)"
   ]
  },
  {
   "cell_type": "code",
   "execution_count": 17,
   "id": "32ee0368",
   "metadata": {},
   "outputs": [
    {
     "data": {
      "text/plain": [
       "torch.Size([4, 10, 196])"
      ]
     },
     "execution_count": 17,
     "metadata": {},
     "output_type": "execute_result"
    }
   ],
   "source": [
    "import torch\n",
    "import torch.nn as nn\n",
    "\n",
    "num_patches = 196\n",
    "embed_dim = 768\n",
    "\n",
    "position_embedding = nn.Embedding(num_patches,embed_dim)\n",
    "position_ids = torch.arange(num_patches).expand((4,10,-1))\n",
    "position_ids.shape\n"
   ]
  },
  {
   "cell_type": "code",
   "execution_count": 22,
   "id": "f77733f4",
   "metadata": {},
   "outputs": [
    {
     "name": "stdout",
     "output_type": "stream",
     "text": [
      "torch.Size([1, 14, 36])\n"
     ]
    }
   ],
   "source": [
    "tens = torch.randn(1,14, 36)\n",
    "print(tens.shape)"
   ]
  },
  {
   "cell_type": "code",
   "execution_count": 23,
   "id": "ec63b22b",
   "metadata": {},
   "outputs": [
    {
     "name": "stdout",
     "output_type": "stream",
     "text": [
      "torch.Size([14, 36])\n"
     ]
    }
   ],
   "source": [
    "pat = tens[0].detach()\n",
    "print(pat.shape)"
   ]
  }
 ],
 "metadata": {
  "kernelspec": {
   "display_name": "Python (cost_model)",
   "language": "python",
   "name": "cost_model"
  },
  "language_info": {
   "codemirror_mode": {
    "name": "ipython",
    "version": 3
   },
   "file_extension": ".py",
   "mimetype": "text/x-python",
   "name": "python",
   "nbconvert_exporter": "python",
   "pygments_lexer": "ipython3",
   "version": "3.10.16"
  }
 },
 "nbformat": 4,
 "nbformat_minor": 5
}
